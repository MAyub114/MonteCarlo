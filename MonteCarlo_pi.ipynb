{
 "cells": [
  {
   "cell_type": "markdown",
   "metadata": {},
   "source": [
    "# Determine the value of $\\pi$ using Monte Carlo simulation\n",
    "\n",
    "## How it works\n",
    "\n",
    "* Area of a circle = $\\pi r^{2}$\n",
    "* Imagine a square of length r. You can fit one-quarter of a circle inside\n",
    "* The Monte Carlo simulation generates random points in the square\n",
    "* We determine whether a point is inside or outside the quarter circle region\n",
    "  * Let k = number of points that are inside the quarter circle\n",
    "  * Let m = total number of points randomly created by the Monte Carlo simulation\n",
    "* The ratio of the areas (quarter circle and square) are equivalent to the proportion of k and m\n",
    "  * Formally, area of quarter circle / area of square = k / m\n",
    "  * $\\pi r^{2}$ / 4 $r^{2}$ = k / m\n",
    "  * $\\pi$ = 4k / m\n"
   ]
  },
  {
   "cell_type": "code",
   "execution_count": null,
   "metadata": {},
   "outputs": [],
   "source": [
    "# Core libraies\n",
    "import pandas as pd\n",
    "import random\n",
    "import time\n",
    "\n",
    "# Data visualization\n",
    "import matplotlib.pyplot as plt\n",
    "import seaborn as sns"
   ]
  },
  {
   "cell_type": "markdown",
   "metadata": {},
   "source": [
    "## Functions"
   ]
  },
  {
   "cell_type": "code",
   "execution_count": null,
   "metadata": {},
   "outputs": [],
   "source": [
    "def create_points_dataframe(inside_circle, outside_circle):\n",
    "    points_inside = pd.DataFrame()\n",
    "    points_outside = pd.DataFrame()\n",
    "\n",
    "    # Create DataFrame of points lying inside the quarter-circle\n",
    "    x, y = zip(*inside_circle)\n",
    "    points_inside['x'] = x\n",
    "    points_inside['y'] = y\n",
    "    points_inside['inside'] = 1\n",
    "\n",
    "    # Create DataFrame of points lying outside the quarter-circle\n",
    "    x, y = zip(*outside_circle)\n",
    "    points_outside['x'] = x\n",
    "    points_outside['y'] = y\n",
    "    points_outside['inside'] = 0\n",
    "\n",
    "    # Combine DataFrames\n",
    "    points_df = pd.concat([points_inside, points_outside])\n",
    "    points_df.reset_index(drop=True, inplace=True)\n",
    "    return points_df\n",
    "\n",
    "\n",
    "def calculate_hypotenuse(x, y):\n",
    "    # Square root of x squared plus y squared\n",
    "    return (x**2 + y**2)**0.5\n",
    "\n",
    "\n",
    "def approximate_pi(num_points):\n",
    "    # Store (x, y) of points that are inside and outside of the quarter circle\n",
    "    inside_circle = []\n",
    "    outside_circle = []  \n",
    "    num_points_circle = 0\n",
    "    for i in range(num_points):\n",
    "        # Random number between 0 and 1\n",
    "        x, y = random.random(), random.random()\n",
    "        \n",
    "        # Determine if (x, y) is within the quarter circle\n",
    "        hypotenuse = calculate_hypotenuse(x, y)\n",
    "        if hypotenuse <= 1:\n",
    "            inside_circle.append((x, y))\n",
    "            num_points_circle += 1\n",
    "        else:\n",
    "            outside_circle.append((x, y))\n",
    "    points_df = create_points_dataframe(inside_circle, outside_circle)\n",
    "    approx_pi = 4 * (num_points_circle / num_points)\n",
    "    return approx_pi, points_df"
   ]
  },
  {
   "cell_type": "markdown",
   "metadata": {},
   "source": [
    "## Monte Carlo simulation"
   ]
  },
  {
   "cell_type": "code",
   "execution_count": null,
   "metadata": {},
   "outputs": [],
   "source": [
    "for points in [10, 100, 10000, 1000000, 1000000]:\n",
    "    start = time.monotonic()\n",
    "    approx_pi, points_df = approximate_pi(points)\n",
    "    print(f\"pi = {approx_pi} approximated using {points} simulated points\")\n",
    "    end = time.monotonic()\n",
    "    print(f\"time taken: {round(end-start, 3)} seconds\\n\")\n",
    "    sns.scatterplot(data=points_df, x='x', y='y', hue='inside')\n",
    "    plt.title(f\"Simulated {points} points\")\n",
    "    plt.axis([0, 1, 0, 1])\n",
    "    plt.axis('equal')\n",
    "    plt.show()"
   ]
  }
 ],
 "metadata": {
  "interpreter": {
   "hash": "ffb5651615702995ebd49a2ad4db23d0098f6567c08820e6a071e2076ab93835"
  },
  "kernelspec": {
   "display_name": "Python 3.8.13 ('py38_ts')",
   "language": "python",
   "name": "python3"
  },
  "language_info": {
   "codemirror_mode": {
    "name": "ipython",
    "version": 3
   },
   "file_extension": ".py",
   "mimetype": "text/x-python",
   "name": "python",
   "nbconvert_exporter": "python",
   "pygments_lexer": "ipython3",
   "version": "3.8.13"
  },
  "orig_nbformat": 4
 },
 "nbformat": 4,
 "nbformat_minor": 2
}
