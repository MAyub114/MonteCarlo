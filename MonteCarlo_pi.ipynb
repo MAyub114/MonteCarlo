{
 "cells": [
  {
   "cell_type": "markdown",
   "metadata": {},
   "source": [
    "# Determine the value of $\\pi$ using Monte Carlo simulation\n",
    "\n",
    "## How it works\n",
    "\n",
    "* Area of a circle = $\\pi r^{2}$\n",
    "* Imagine a square of length r. You can fit one-quarter of a circle inside\n",
    "* The Monte Carlo simulation generates random points in the square\n",
    "* We determine whether a point is inside or outside the quarter circle region\n",
    "  * Let k = number of points that are inside the quarter circle\n",
    "  * Let m = total number of points randomly created by the Monte Carlo simulation\n",
    "* The ratio of the areas (quarter circle and square) are equivalent to the proportion of k and m\n",
    "  * Formally, area of quarter circle / area of square = k / m\n",
    "  * $\\pi r^{2}$ / 4 $r^{2}$ = k / m\n",
    "  * $\\pi$ = 4k / m\n"
   ]
  },
  {
   "cell_type": "code",
   "execution_count": 1,
   "metadata": {},
   "outputs": [],
   "source": [
    "import random\n",
    "import time"
   ]
  }
 ],
 "metadata": {
  "interpreter": {
   "hash": "ffb5651615702995ebd49a2ad4db23d0098f6567c08820e6a071e2076ab93835"
  },
  "kernelspec": {
   "display_name": "Python 3.8.13 ('py38_ts')",
   "language": "python",
   "name": "python3"
  },
  "language_info": {
   "codemirror_mode": {
    "name": "ipython",
    "version": 3
   },
   "file_extension": ".py",
   "mimetype": "text/x-python",
   "name": "python",
   "nbconvert_exporter": "python",
   "pygments_lexer": "ipython3",
   "version": "3.8.13"
  },
  "orig_nbformat": 4
 },
 "nbformat": 4,
 "nbformat_minor": 2
}
